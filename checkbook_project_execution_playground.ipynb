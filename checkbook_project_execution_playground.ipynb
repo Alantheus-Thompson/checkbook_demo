{
 "cells": [
  {
   "cell_type": "code",
   "execution_count": 5,
   "id": "3f503884",
   "metadata": {},
   "outputs": [
    {
     "name": "stdout",
     "output_type": "stream",
     "text": [
      "Welcome to your terminal checkbook.\n",
      "1. View current balance\n",
      "2. Add a debit (withdrawal)\n",
      "3. Add a credit (deposit)\n",
      "4. Exit\n",
      "Please select an action (1/2/3/4): 1\n",
      "Current balance: $20999998.0\n",
      "Welcome to your terminal checkbook.\n",
      "1. View current balance\n",
      "2. Add a debit (withdrawal)\n",
      "3. Add a credit (deposit)\n",
      "4. Exit\n",
      "Please select an action (1/2/3/4): 4\n",
      "Exiting the application.\n"
     ]
    }
   ],
   "source": [
    "import os\n",
    "import json\n",
    "import checkbook_project_functions as cpf\n",
    "\n",
    "\n",
    "# print(f'Please enter your name to access your terminal checkbook')\n",
    "# first_name = input(\"First name: \")\n",
    "# last_name = input(\"Last name: \")\n",
    "\n",
    "# user_profile = first_name, last_name\n",
    "# user_profile = cpf.get_or_create_user_profile(first_name, last_name)\n",
    "\n",
    "# print(f\"Welcome {user_profiles['first_name']} to your terminal checkbook\")\n",
    "\n",
    "while True:\n",
    "    print(\"Welcome to your terminal checkbook.\")\n",
    "    print(\"1. View current balance\")\n",
    "    print(\"2. Add a debit (withdrawal)\")\n",
    "    print(\"3. Add a credit (deposit)\")\n",
    "    print(\"4. Exit\")\n",
    "        \n",
    "    choice = input(\"Please select an action (1/2/3/4): \")\n",
    "        \n",
    "    if choice == '1':\n",
    "        balance = cpf.get_balance()\n",
    "        print(f\"Current balance: ${balance}\")\n",
    "    elif choice == '2':\n",
    "        try:\n",
    "            debit_amount = float(input(\"Enter the debit amount: $\"))\n",
    "            cpf.add_debit(debit_amount)\n",
    "            print(f\"${debit_amount} debited successfully.\")\n",
    "        except ValueError:\n",
    "            print(\"Invalid input. Please enter a valid amount.\")\n",
    "    elif choice == '3':\n",
    "        try:\n",
    "            credit_amount = float(input(\"Enter the credit amount: $\"))\n",
    "            cpf.add_credit(credit_amount)\n",
    "            print(f\"${credit_amount} credited successfully.\")\n",
    "        except ValueError:\n",
    "            print(\"Invalid input. Please enter a valid amount.\")\n",
    "    elif choice == '4':\n",
    "        print(\"Exiting the application.\")\n",
    "        break\n",
    "    else:\n",
    "        print(\"Invalid choice. Please select a valid option (1/2/3/4).\")\n"
   ]
  },
  {
   "cell_type": "code",
   "execution_count": null,
   "id": "76fc3463",
   "metadata": {},
   "outputs": [],
   "source": []
  },
  {
   "cell_type": "code",
   "execution_count": null,
   "id": "6a904b00",
   "metadata": {},
   "outputs": [],
   "source": []
  },
  {
   "cell_type": "code",
   "execution_count": null,
   "id": "28cb6b6a",
   "metadata": {},
   "outputs": [],
   "source": []
  }
 ],
 "metadata": {
  "kernelspec": {
   "display_name": "Python 3 (ipykernel)",
   "language": "python",
   "name": "python3"
  },
  "language_info": {
   "codemirror_mode": {
    "name": "ipython",
    "version": 3
   },
   "file_extension": ".py",
   "mimetype": "text/x-python",
   "name": "python",
   "nbconvert_exporter": "python",
   "pygments_lexer": "ipython3",
   "version": "3.11.5"
  }
 },
 "nbformat": 4,
 "nbformat_minor": 5
}
